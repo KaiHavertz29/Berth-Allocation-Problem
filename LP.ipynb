{
 "cells": [
  {
   "cell_type": "markdown",
   "metadata": {},
   "source": [
    "# Berth Allocation Problem"
   ]
  },
  {
   "cell_type": "markdown",
   "metadata": {},
   "source": [
    "## Util functions"
   ]
  },
  {
   "cell_type": "code",
   "execution_count": 1,
   "metadata": {},
   "outputs": [
    {
     "ename": "ModuleNotFoundError",
     "evalue": "No module named 'pulp'",
     "output_type": "error",
     "traceback": [
      "\u001b[0;31m---------------------------------------------------------------------------\u001b[0m",
      "\u001b[0;31mModuleNotFoundError\u001b[0m                       Traceback (most recent call last)",
      "\u001b[0;32m<ipython-input-1-fcfb2913c2aa>\u001b[0m in \u001b[0;36m<module>\u001b[0;34m\u001b[0m\n\u001b[1;32m      2\u001b[0m \u001b[0;31m# !{sys.executable} -m pip install pulp\u001b[0m\u001b[0;34m\u001b[0m\u001b[0;34m\u001b[0m\u001b[0;34m\u001b[0m\u001b[0m\n\u001b[1;32m      3\u001b[0m \u001b[0;32mimport\u001b[0m \u001b[0mrandom\u001b[0m\u001b[0;34m\u001b[0m\u001b[0;34m\u001b[0m\u001b[0m\n\u001b[0;32m----> 4\u001b[0;31m \u001b[0;32mfrom\u001b[0m \u001b[0mpulp\u001b[0m \u001b[0;32mimport\u001b[0m \u001b[0;34m*\u001b[0m\u001b[0;34m\u001b[0m\u001b[0;34m\u001b[0m\u001b[0m\n\u001b[0m",
      "\u001b[0;31mModuleNotFoundError\u001b[0m: No module named 'pulp'"
     ]
    }
   ],
   "source": [
    "# import sys\n",
    "# !{sys.executable} -m pip install pulp\n",
    "import random\n",
    "from pulp import *"
   ]
  },
  {
   "cell_type": "code",
   "execution_count": null,
   "metadata": {},
   "outputs": [],
   "source": [
    "pip install pulp"
   ]
  },
  {
   "cell_type": "markdown",
   "metadata": {},
   "source": [
    "## 1. generate input"
   ]
  },
  {
   "cell_type": "code",
   "execution_count": 50,
   "metadata": {},
   "outputs": [
    {
     "name": "stdout",
     "output_type": "stream",
     "text": [
      "Total length = 619\n",
      "Number of vessels = 15\n",
      "Assume days for allocation = 6\n",
      "Assume max operation time = 48\n",
      "Assume penalty limit = 4\n"
     ]
    }
   ],
   "source": [
    "L = random.randint(500, 1000)\n",
    "print(\"Total length =\", L)\n",
    "n = random.randint(5, 15)\n",
    "print(\"Number of vessels =\", n)\n",
    "\n",
    "days = random.randint(4, 8)\n",
    "maxOperationTime = 48\n",
    "penaltyLimit = 4\n",
    "print(\"Assume days for allocation =\", days)\n",
    "print(\"Assume max operation time =\", maxOperationTime)\n",
    "print(\"Assume penalty limit =\", penaltyLimit)\n",
    "time = days * 24\n",
    "\n",
    "p = [0] * n\n",
    "a = [0] * n\n",
    "b = [0] * n\n",
    "d = [0] * n\n",
    "l = [0] * n\n",
    "c1 = [0] * n\n",
    "c2 = [0] * n\n",
    "\n",
    "for i in range(n):\n",
    "    p[i] = random.randint(0, L)\n",
    "    a[i] = random.randint(0, time)\n",
    "    b[i] = random.randint(1, maxOperationTime)\n",
    "    d[i] = random.randint(a[i] + 1, time)\n",
    "    l[i] = random.randint(1, L)\n",
    "    c1[i] = random.randint(1, 4)\n",
    "    c2[i] = random.randint(1, 4)"
   ]
  },
  {
   "cell_type": "markdown",
   "metadata": {},
   "source": [
    "## 2. Create model"
   ]
  },
  {
   "cell_type": "code",
   "execution_count": 51,
   "metadata": {},
   "outputs": [],
   "source": [
    "M = 99999999999 # assign a max number, not sure if float(\"inf\") will trigger some potential bugs\n",
    "m = LpProblem(\"Berth Allocation Problem\", LpMinimize)\n",
    "x = [LpVariable(\"x{}\".format(i), 0, L, LpInteger) for i in range(n)]\n",
    "y = [LpVariable(\"y{}\".format(i), 1, maxOperationTime, LpInteger) for i in range(n)]\n",
    "E = [(i, j) for i in range(n) for j in range(n) if i != j]\n",
    "zx = LpVariable.dicts(\"zx\", E, cat=LpBinary)\n",
    "zy = LpVariable.dicts(\"zy\", E, cat=LpBinary)\n",
    "\n",
    "Y = LpVariable(\"Y\", cat=LpInteger)\n",
    "Y_pos = LpVariable(\"Y_pos\", cat=LpInteger)\n",
    "\n",
    "part1 = LpVariable(\"part1\", cat=LpInteger)\n",
    "part2 = LpVariable(\"part2\", cat=LpInteger)\n",
    "# Create objective\n",
    "m += part1 + part2, \"Objective\"\n",
    "\n",
    "X = [LpVariable(\"X{}\".format(i), cat=LpInteger) for i in range(n)]\n",
    "X_abs = [LpVariable(\"X_abs{}\".format(i), cat=LpInteger) for i in range(n)]\n",
    "for i in range(n):\n",
    "    m += X[i] == (x[i] - p[i])\n",
    "    m += X_abs[i] >= X[i]\n",
    "    m += X_abs[i] >= -X[i]\n",
    "m += part1 == sum(c1[i] * X_abs[i] for i in range(n))\n",
    "\n",
    "\n",
    "Y = [LpVariable(\"Y{}\".format(i), cat=LpInteger) for i in range(n)]\n",
    "Y_pos = [LpVariable(\"Y_pos{}\".format(i), cat=LpInteger) for i in range(n)]\n",
    "for i in range(n):\n",
    "    m += Y[i] == (y[i] + b[i] - d[i])\n",
    "    m += Y_pos[i] >= Y[i]\n",
    "    m += Y_pos[i] >= 0\n",
    "m += part2 == sum(c2[i] * Y_pos[i] for i in range(n))\n",
    "\n",
    "# Add constraints\n",
    "for i in range(n):\n",
    "    m += x[i] + l[i] <= L #, \"x right most end constraint\"\n",
    "\n",
    "for i in range(n):\n",
    "    for j in range(n):\n",
    "        if i != j:\n",
    "            m += x[i] + l[i] <= x[j] + M * (1 - zx[i,j])#, \"left hand constraint\"\n",
    "            m += y[i] + b[i] <= y[j] + M * (1 - zy[i,j])#, \"time no later constraint\"\n",
    "for i in range(n):\n",
    "    for j in range(i):\n",
    "        if i < j:\n",
    "            m += zx[i,j] + zx[j,i] + zy[i,j] + zy[j,i] >= 1#, \"no overlap constraint\"\n",
    "for i in range(n):\n",
    "    m += y[i] >= a[i]#, \"after arrive constraint\"\n",
    "for i in range(n):\n",
    "    m += x[i] >= 0#, \"non-negetive constraint\""
   ]
  },
  {
   "cell_type": "markdown",
   "metadata": {},
   "source": [
    "## 3. solve"
   ]
  },
  {
   "cell_type": "code",
   "execution_count": 52,
   "metadata": {},
   "outputs": [
    {
     "data": {
      "text/plain": [
       "-1"
      ]
     },
     "execution_count": 52,
     "metadata": {},
     "output_type": "execute_result"
    }
   ],
   "source": [
    "m.solve()"
   ]
  },
  {
   "cell_type": "markdown",
   "metadata": {},
   "source": [
    "## 4. present results"
   ]
  },
  {
   "cell_type": "code",
   "execution_count": 39,
   "metadata": {},
   "outputs": [],
   "source": [
    "vobj = value(m.objective)"
   ]
  },
  {
   "cell_type": "code",
   "execution_count": null,
   "metadata": {},
   "outputs": [],
   "source": []
  }
 ],
 "metadata": {
  "kernelspec": {
   "display_name": "Python 3",
   "language": "python",
   "name": "python3"
  },
  "language_info": {
   "codemirror_mode": {
    "name": "ipython",
    "version": 3
   },
   "file_extension": ".py",
   "mimetype": "text/x-python",
   "name": "python",
   "nbconvert_exporter": "python",
   "pygments_lexer": "ipython3",
   "version": "3.8.8"
  }
 },
 "nbformat": 4,
 "nbformat_minor": 4
}
